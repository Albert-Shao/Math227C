{
 "cells": [
  {
   "cell_type": "markdown",
   "metadata": {},
   "source": [
    "# L8.2 Bootstrap\n",
    "\n",
    "Key concepts: Parametric bootstrap, non-parametric bootstrap on a random variable. Non-parametric bootstrap on regression."
   ]
  },
  {
   "cell_type": "code",
   "execution_count": null,
   "metadata": {},
   "outputs": [],
   "source": [
    "# plot settings\n",
    "options(repr.plot.width=4, repr.plot.height=3)"
   ]
  },
  {
   "cell_type": "markdown",
   "metadata": {},
   "source": [
    "Perform maximum likelihood on a sample of 200 exponential random variables."
   ]
  },
  {
   "cell_type": "code",
   "execution_count": null,
   "metadata": {},
   "outputs": [],
   "source": [
    "NObservations <- 200\n",
    "observations = rexp(NObservations,rate=2.63)\n",
    "\n",
    "rate_hat <- 1/mean(observations)\n",
    "\n",
    "rate_hat\n",
    "\n",
    "rate_hatOriginal = rate_hat # for later, when we do parametric bootstrap"
   ]
  },
  {
   "cell_type": "markdown",
   "metadata": {},
   "source": [
    "Example: Use maximum likelihood to estimate the parameter of a exponential distribution.\n",
    "\n",
    "From simulated data: To estimate the distribution of the estimator, we could repeat the simulation many times."
   ]
  },
  {
   "cell_type": "code",
   "execution_count": null,
   "metadata": {},
   "outputs": [],
   "source": [
    "NResimulate <- 1000\n",
    "\n",
    "# initialize an array to store all the estimates\n",
    "rate_hatArray <-0\n",
    "\n",
    "for (iSimulation in 1:NResimulate){\n",
    "    \n",
    "    NObservations <- 200\n",
    "    observations = rexp(NObservations,rate=2.63) # Note these simulations use the true value\n",
    "\n",
    "    rate_hat <- 1/mean(observations)\n",
    "\n",
    "    rate_hatArray[iSimulation] = rate_hat\n",
    "    \n",
    "}\n",
    "\n",
    "hist(rate_hatArray)"
   ]
  },
  {
   "cell_type": "code",
   "execution_count": null,
   "metadata": {},
   "outputs": [],
   "source": [
    "sd(rate_hatArray)\n",
    "\n",
    "quantile(rate_hatArray)\n",
    "\n",
    "quantile(rate_hatArray, probs = c(0.025, 0.975))"
   ]
  },
  {
   "cell_type": "markdown",
   "metadata": {},
   "source": [
    "## Parametric bootstrap\n",
    "\n",
    "If we have high confidence in the model and the estimate of the parameter, we can simulate data and repeat the estimation process. This is called __parametric bootstrap__. Note this requires the ability to forward-simulate the probability model."
   ]
  },
  {
   "cell_type": "code",
   "execution_count": null,
   "metadata": {},
   "outputs": [],
   "source": [
    "NResimulate <- 1000\n",
    "\n",
    "# initialize an array to store all the estimates\n",
    "rate_hatArray <-0\n",
    "\n",
    "for (iSimulation in 1:NResimulate){\n",
    "    \n",
    "    NObservations <- 200\n",
    "    observations = rexp(NObservations,rate=rate_hatOriginal) # Note these simulations use the ESTIMATED value\n",
    "\n",
    "    rate_hat <- 1/mean(observations)\n",
    "\n",
    "    rate_hatArray[iSimulation] = rate_hat\n",
    "    \n",
    "}\n",
    "\n",
    "hist(rate_hatArray)\n",
    "\n",
    "sd(rate_hatArray)\n",
    "\n",
    "quantile(rate_hatArray)\n",
    "\n",
    "quantile(rate_hatArray, probs = c(0.025, 0.975))"
   ]
  },
  {
   "cell_type": "markdown",
   "metadata": {},
   "source": [
    "## Non-parametric Bootstrap\n",
    "\n",
    "In reality, we might not have high confidence in the model, or it might be difficult or impossible to forward-simulate the model.\n",
    "\n",
    "So, alternatively, we can resample with replacement from the data, and repeat the estimation process. This is called __non-parametric bootstrap__. Note this does not require the ability to forward-simulate the model."
   ]
  },
  {
   "cell_type": "code",
   "execution_count": null,
   "metadata": {},
   "outputs": [],
   "source": [
    "NResample <- 1000\n",
    "\n",
    "# initialize an array to store all the estimates\n",
    "rate_hatArray <-0\n",
    "\n",
    "for (iResample in 1:NResample){\n",
    "\n",
    "    NObservations <- 20\n",
    "    resampledObservations <- sample(observations, size=NObservations, replace = TRUE)\n",
    "   \n",
    "    # parameter estimation technique goes here\n",
    "    rate_hat <- 1/mean(resampledObservations)\n",
    "    \n",
    "    rate_hatArray[iResample] = rate_hat\n",
    "    \n",
    "}\n",
    "\n",
    "\n",
    "hist(rate_hatArray)\n",
    "\n",
    "sd(rate_hatArray)\n",
    "\n",
    "quantile(rate_hatArray)\n",
    "\n",
    "quantile(rate_hatArray, probs = c(0.05, 0.95))"
   ]
  },
  {
   "cell_type": "markdown",
   "metadata": {},
   "source": [
    "---\n",
    "\n",
    "## Non-parametric boostrap on linear regression\n",
    "\n",
    "Non-parametric bootstrap is extremely general. For any inference algorithm, if a resampling of the data can be made, bootstrap can be used.\n",
    "\n",
    "Let's use it on linear regression."
   ]
  },
  {
   "cell_type": "code",
   "execution_count": null,
   "metadata": {},
   "outputs": [],
   "source": [
    "# Simulate some linear data with noise\n",
    "N <- 100\n",
    "beta0 <- 10.5\n",
    "beta1 <- 2.6\n",
    "sigma <- 1.4\n",
    "\n",
    "X <- seq(0,10,length=N)\n",
    "eps <- rnorm(N,0,sigma)\n",
    "\n",
    "Y <- beta0 + beta1*X +eps\n",
    "\n",
    "plot(X,Y)"
   ]
  },
  {
   "cell_type": "code",
   "execution_count": null,
   "metadata": {},
   "outputs": [],
   "source": [
    "NResample <- 1000\n",
    "\n",
    "# initialize an array to store all the estimates\n",
    "beta0_hatArray <-0\n",
    "beta1_hatArray <-0\n",
    "\n",
    "\n",
    "for (iResample in 1:NResample){\n",
    "\n",
    "    thisSampleRows <- sample(N, replace = TRUE) # which rows of X and Y to take in this resample\n",
    "    Y_thisSample = Y[thisSampleRows]\n",
    "    X_thisSample = X[thisSampleRows]\n",
    "    \n",
    "    # parameter estimation technique goes here\n",
    "    thisFit = lm(Y_thisSample~X_thisSample)\n",
    "    \n",
    "    beta0_hatArray[iResample] = coef(thisFit)[1]\n",
    "    beta1_hatArray[iResample] = coef(thisFit)[2]\n",
    "    \n",
    "}\n",
    "\n",
    "hist(beta0_hatArray)\n",
    "hist(beta1_hatArray)\n"
   ]
  }
 ],
 "metadata": {
  "kernelspec": {
   "display_name": "R",
   "language": "R",
   "name": "ir"
  },
  "language_info": {
   "codemirror_mode": "r",
   "file_extension": ".r",
   "mimetype": "text/x-r-source",
   "name": "R",
   "pygments_lexer": "r",
   "version": "3.6.1"
  }
 },
 "nbformat": 4,
 "nbformat_minor": 2
}
