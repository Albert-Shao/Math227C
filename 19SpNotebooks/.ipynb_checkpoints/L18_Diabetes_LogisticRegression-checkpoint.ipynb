{
 "cells": [
  {
   "cell_type": "markdown",
   "metadata": {},
   "source": [
    "# L18 Diabetes\n",
    "Key ideas: Logistic regression and binomial generalized linear model\n",
    "\n",
    "Application: Diabetes data"
   ]
  },
  {
   "cell_type": "code",
   "execution_count": null,
   "metadata": {},
   "outputs": [],
   "source": [
    "# load libraries\n",
    "library(\"MASS\")\n",
    "library(\"ggplot2\")\n",
    "library(\"readr\")\n",
    "\n",
    "# plot settings\n",
    "options(repr.plot.width=4, repr.plot.height=3)"
   ]
  },
  {
   "cell_type": "code",
   "execution_count": null,
   "metadata": {},
   "outputs": [],
   "source": [
    "# load diabetes data (See MSMB textbook)\n",
    "\n",
    "diabetes = read_csv(\"diabetes.csv\",col_names=TRUE, col_types = cols())\n",
    "\n",
    "diabetes$boolean=(diabetes$group!=3)\n",
    "diabetes$diagnosis=as.integer(as.logical(diabetes$boolean))\n",
    "\n",
    "ggplot(mapping = aes(x=insulin,y=glutest)) + geom_point(aes(color=diagnosis), data = diabetes)"
   ]
  },
  {
   "cell_type": "code",
   "execution_count": null,
   "metadata": {},
   "outputs": [],
   "source": [
    "diabetes\n"
   ]
  },
  {
   "cell_type": "markdown",
   "metadata": {},
   "source": [
    "---\n",
    "Fit the model\n",
    "$$p(g) = \\frac{e^{\\beta_0+\\beta_1 g}}{1+ e^{\\beta_0+\\beta_1 g}}$$ \n",
    "where $p$ is the probability of positive diagnosis, and $g$ is the variable glutest."
   ]
  },
  {
   "cell_type": "code",
   "execution_count": null,
   "metadata": {},
   "outputs": [],
   "source": [
    "# Fit the binomial model using GLM.\n",
    "fittedBinomial= glm(diagnosis~glutest,family=binomial,data=diabetes)\n",
    "\n",
    "fittedBinomial # Show results of GLM fit\n",
    "\n",
    "beta0 = coef(fittedBinomial)[1]\n",
    "beta1 = coef(fittedBinomial)[2]"
   ]
  },
  {
   "cell_type": "code",
   "execution_count": null,
   "metadata": {},
   "outputs": [],
   "source": [
    "# Plot fit\n",
    "glutestAxis = seq(0,1000,1)\n",
    "logit=beta0+beta1*glutestAxis\n",
    "pBoolean = exp(logit)/(1+exp(logit))\n",
    "plot(glutestAxis,pBoolean)"
   ]
  },
  {
   "cell_type": "code",
   "execution_count": null,
   "metadata": {},
   "outputs": [],
   "source": [
    "glm(diagnosis~glufast+insulin,family=binomial,data=diabetes)"
   ]
  },
  {
   "cell_type": "code",
   "execution_count": null,
   "metadata": {},
   "outputs": [],
   "source": []
  }
 ],
 "metadata": {
  "kernelspec": {
   "display_name": "R",
   "language": "R",
   "name": "ir"
  },
  "language_info": {
   "codemirror_mode": "r",
   "file_extension": ".r",
   "mimetype": "text/x-r-source",
   "name": "R",
   "pygments_lexer": "r",
   "version": "3.5.1"
  }
 },
 "nbformat": 4,
 "nbformat_minor": 2
}
