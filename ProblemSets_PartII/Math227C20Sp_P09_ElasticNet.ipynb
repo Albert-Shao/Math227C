{
 "cells": [
  {
   "cell_type": "markdown",
   "metadata": {},
   "source": [
    "# Problem Set 9\n",
    "\n",
    "## Example: predicting colon cancer from stool microbiome composition"
   ]
  },
  {
   "cell_type": "code",
   "execution_count": null,
   "metadata": {},
   "outputs": [],
   "source": [
    "# plot settings\n",
    "options(repr.plot.width=15, repr.plot.height=10)"
   ]
  },
  {
   "cell_type": "code",
   "execution_count": null,
   "metadata": {},
   "outputs": [],
   "source": [
    "# Install a package BioConductor ExperimentHub to access the example data\n",
    "if (!requireNamespace(\"BiocManager\", quietly = TRUE))\n",
    "    install.packages(\"BiocManager\")\n",
    "BiocManager::install()\n",
    "BiocManager::install(\"ExperimentHub\")\n",
    "\n",
    "# Install glmnet for LASSO and Elastic Net regression\n",
    "install.packages(\"glmnet\")"
   ]
  },
  {
   "cell_type": "code",
   "execution_count": null,
   "metadata": {},
   "outputs": [],
   "source": [
    "\n",
    "library(\"BiocManager\")\n",
    "library(\"glmnet\")\n"
   ]
  },
  {
   "cell_type": "code",
   "execution_count": null,
   "metadata": {},
   "outputs": [],
   "source": [
    "library(\"ExperimentHub\")\n",
    "\n",
    "eh = ExperimentHub()\n",
    "data = eh[[\"EH361\"]]\n"
   ]
  },
  {
   "cell_type": "markdown",
   "metadata": {},
   "source": [
    "## 1. Explore the data set\n",
    "\n",
    "Explore our data set. The rows are the presence of microbes in the gut. They also contain the presence of cancer. The columns represent different patients. \n",
    "\n",
    "__i) How many patients are in the data set?__\n",
    "\n",
    "__ii) How many species of microbe are in the data set?__\n",
    "\n",
    "There are possible 3 disease states. Create a data set with only patients who are either \"N\" (No cancer) or \"cancer\" (cancer). In other words, remove the patiends with adenomas.\n",
    "\n",
    "__iii) After removing the patients with adenomas, how many patients are in the data set?__"
   ]
  },
  {
   "cell_type": "code",
   "execution_count": null,
   "metadata": {},
   "outputs": [],
   "source": [
    "data"
   ]
  },
  {
   "cell_type": "code",
   "execution_count": null,
   "metadata": {},
   "outputs": [],
   "source": [
    "rownames(data)"
   ]
  },
  {
   "cell_type": "code",
   "execution_count": null,
   "metadata": {},
   "outputs": [],
   "source": [
    "colnames(data)"
   ]
  },
  {
   "cell_type": "markdown",
   "metadata": {},
   "source": [
    "For simplicity, let's only use the \"n\" and \"cancer\" states (and remove the adenomas).\n"
   ]
  },
  {
   "cell_type": "code",
   "execution_count": null,
   "metadata": {},
   "outputs": [],
   "source": [
    "data$disease\n",
    "\n",
    "dataCancerNoCancer = data[, data$disease %in% c(\"n\", \"cancer\")]\n",
    "\n",
    "dataCancerNoCancer$disease"
   ]
  },
  {
   "cell_type": "markdown",
   "metadata": {},
   "source": [
    "## 2. Lasso regression\n",
    "Let's perform lasso regression. In this case, the response variable is categorical (cancer or no cancer) so we can use a binomial model, which is a subset of logistic models. \n",
    "\n",
    "__i) According to the crossvalidation analysis, how many species of microbe should we include in a predictive model of colon cancer?__"
   ]
  },
  {
   "cell_type": "code",
   "execution_count": null,
   "metadata": {},
   "outputs": [],
   "source": [
    "y = factor(dataCancerNoCancer$disease)\n",
    "x = t(exprs(dataCancerNoCancer))\n",
    "\n",
    "lassoFit = glmnet(y=y, x=x, family=\"binomial\")\n",
    "\n",
    "plot(lassoFit, xvar = \"lambda\", label = TRUE)\n"
   ]
  },
  {
   "cell_type": "code",
   "execution_count": null,
   "metadata": {},
   "outputs": [],
   "source": [
    "crossValidationOutput <- cv.glmnet(y=factor(dataCancerNoCancer$disease),\n",
    "                                   x=t(exprs(dataCancerNoCancer)), family=\"binomial\")\n",
    "\n",
    "plot(crossValidationOutput)"
   ]
  },
  {
   "cell_type": "code",
   "execution_count": null,
   "metadata": {},
   "outputs": [],
   "source": [
    "bestLambda = crossValidationOutput$lambda.min\n",
    "confusionMatrix = predict(lassoFit, newx = t(exprs(dataCancerNoCancer)), type=\"class\",s=bestLambda)\n",
    "table(confusionMatrix, dataCancerNoCancer$disease)"
   ]
  },
  {
   "cell_type": "markdown",
   "metadata": {},
   "source": [
    "ii) Write code to extract the number of false positives (non-cancer patients that are predicted to have cancer) and false negatives (cancer patients that are predicted to not have cancer)."
   ]
  },
  {
   "cell_type": "code",
   "execution_count": null,
   "metadata": {},
   "outputs": [],
   "source": []
  },
  {
   "cell_type": "markdown",
   "metadata": {},
   "source": [
    "## 3.  Elastic Net regression\n",
    "\n",
    "The characteristic feature of Ridge regression is the penalty\n",
    "\n",
    "$$\\mbox{log}\\left(L(\\beta)\\right) - \\lambda \\sum_i  \\beta_i ^2,$$\n",
    "\n",
    "while the penalty for Lasso regression is\n",
    "\n",
    "$$\\mbox{log}\\left(L(\\beta)\\right) - \\lambda \\sum_i | \\beta_i |.$$\n",
    "\n",
    "In this Problem Set, we explore the penalty\n",
    "\n",
    "$$\\mbox{log}\\left(L(\\beta)\\right) - \\lambda \\left(\\alpha \\sum_i | \\beta_i | +  (1-\\alpha) \\sum_i  \\beta_i ^2\\right),$$\n",
    "\n",
    "which is called __Elastic Net__.  \n",
    "\n",
    "i) In parameter space, Ridge Regression corresponds to finding optimal parameters on a circle, while LASSO regression corresponds to finding optimal parameters on a diamond. What shape does Elastic Net correspond to?"
   ]
  },
  {
   "cell_type": "markdown",
   "metadata": {},
   "source": []
  },
  {
   "cell_type": "markdown",
   "metadata": {},
   "source": [
    "ii). The `glmnet` package was built for Elastic Net regression. Look up the [glmnet package help files](https://www.rdocumentation.org/packages/glmnet/versions/3.0-2/topics/glmnet) to find out how to perform Elastic Net regression for a specific $\\alpha$. Do this for $\\alpha=0.5$, and return the confusion matrix."
   ]
  },
  {
   "cell_type": "code",
   "execution_count": null,
   "metadata": {},
   "outputs": [],
   "source": []
  },
  {
   "cell_type": "markdown",
   "metadata": {},
   "source": [
    "iii) Perform a sweep over $\\alpha=0$ to $\\alpha=1$. Plot the number of species included versus $\\alpha$.\n",
    "\n",
    "Hint: The cv.glmnet output object has a returns a value `$nzero`, which is the number of nonzero factors, which is the number of species desired.  "
   ]
  },
  {
   "cell_type": "code",
   "execution_count": null,
   "metadata": {},
   "outputs": [],
   "source": []
  },
  {
   "cell_type": "markdown",
   "metadata": {},
   "source": [
    "iv) What $\\alpha$ value minimizes the number of false positives (non-cancer patients that are predicted to have cancer)? What $\\alpha$ value minimizes the number of false negatives (cancer patients that are predicted to not have cancer)?"
   ]
  },
  {
   "cell_type": "code",
   "execution_count": null,
   "metadata": {},
   "outputs": [],
   "source": []
  }
 ],
 "metadata": {
  "kernelspec": {
   "display_name": "R",
   "language": "R",
   "name": "ir"
  },
  "language_info": {
   "codemirror_mode": "r",
   "file_extension": ".r",
   "mimetype": "text/x-r-source",
   "name": "R",
   "pygments_lexer": "r",
   "version": "3.6.1"
  }
 },
 "nbformat": 4,
 "nbformat_minor": 2
}
