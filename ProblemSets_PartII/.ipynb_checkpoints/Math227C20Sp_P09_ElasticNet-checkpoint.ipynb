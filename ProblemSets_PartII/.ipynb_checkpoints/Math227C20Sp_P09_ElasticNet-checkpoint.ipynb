{
 "cells": [
  {
   "cell_type": "markdown",
   "metadata": {},
   "source": [
    "# Problem set 12\n",
    "\n",
    "## Example: predicting colon cancer from stool microbione composition"
   ]
  },
  {
   "cell_type": "code",
   "execution_count": 1,
   "metadata": {},
   "outputs": [],
   "source": [
    "# plot settings\n",
    "options(repr.plot.width=15, repr.plot.height=10)"
   ]
  },
  {
   "cell_type": "code",
   "execution_count": 2,
   "metadata": {},
   "outputs": [
    {
     "name": "stderr",
     "output_type": "stream",
     "text": [
      "Loading required package: BiocManager\n",
      "\n",
      "Bioconductor version 3.10 (BiocManager 1.30.10), ?BiocManager::install for help\n",
      "\n",
      "Bioconductor version '3.10' is out-of-date; the current release version '3.11'\n",
      "  is available with R version '4.0'; see https://bioconductor.org/install\n",
      "\n",
      "Bioconductor version 3.10 (BiocManager 1.30.10), R 3.6.1 (2019-07-05)\n",
      "\n",
      "Old packages: 'backports', 'boot', 'class', 'cli', 'dbplyr', 'digest',\n",
      "  'ellipsis', 'fansi', 'foreach', 'glmnet', 'glue', 'isoband', 'jsonlite',\n",
      "  'KernSmooth', 'lattice', 'MASS', 'Matrix', 'mgcv', 'nlme', 'nnet', 'pillar',\n",
      "  'pkgbuild', 'ps', 'purrr', 'Rcpp', 'repr', 'rlang', 'rzmq', 'S4Vectors',\n",
      "  'scales', 'spatial', 'survival', 'tibble', 'tidyr', 'tidyselect', 'uuid',\n",
      "  'vctrs', 'withr'\n",
      "\n",
      "Bioconductor version 3.10 (BiocManager 1.30.10), R 3.6.1 (2019-07-05)\n",
      "\n",
      "Installing package(s) 'ExperimentHub'\n",
      "\n"
     ]
    },
    {
     "name": "stdout",
     "output_type": "stream",
     "text": [
      "\n",
      "The downloaded binary packages are in\n",
      "\t/var/folders/yd/s2tbldys49q1qq6bv1skfs340000gn/T//Rtmp5QkL1H/downloaded_packages\n"
     ]
    },
    {
     "name": "stderr",
     "output_type": "stream",
     "text": [
      "Old packages: 'backports', 'boot', 'class', 'cli', 'dbplyr', 'digest',\n",
      "  'ellipsis', 'fansi', 'foreach', 'glmnet', 'glue', 'isoband', 'jsonlite',\n",
      "  'KernSmooth', 'lattice', 'MASS', 'Matrix', 'mgcv', 'nlme', 'nnet', 'pillar',\n",
      "  'pkgbuild', 'ps', 'purrr', 'Rcpp', 'repr', 'rlang', 'rzmq', 'S4Vectors',\n",
      "  'scales', 'spatial', 'survival', 'tibble', 'tidyr', 'tidyselect', 'uuid',\n",
      "  'vctrs', 'withr'\n",
      "\n",
      "Loading required package: glmnet\n",
      "\n",
      "Loading required package: Matrix\n",
      "\n",
      "Loaded glmnet 3.0-2\n",
      "\n",
      "\n"
     ]
    }
   ],
   "source": [
    "# Install a package BioConductor ExperimentHub to access the example data\n",
    "require(\"BiocManager\")\n",
    "BiocManager::install()\n",
    "BiocManager::install(\"ExperimentHub\")\n",
    "\n",
    "require('glmnet')\n",
    "library(\"glmnet\")"
   ]
  },
  {
   "cell_type": "code",
   "execution_count": 3,
   "metadata": {},
   "outputs": [
    {
     "name": "stderr",
     "output_type": "stream",
     "text": [
      "Loading required package: BiocGenerics\n",
      "\n",
      "Loading required package: parallel\n",
      "\n",
      "\n",
      "Attaching package: ‘BiocGenerics’\n",
      "\n",
      "\n",
      "The following objects are masked from ‘package:parallel’:\n",
      "\n",
      "    clusterApply, clusterApplyLB, clusterCall, clusterEvalQ,\n",
      "    clusterExport, clusterMap, parApply, parCapply, parLapply,\n",
      "    parLapplyLB, parRapply, parSapply, parSapplyLB\n",
      "\n",
      "\n",
      "The following object is masked from ‘package:Matrix’:\n",
      "\n",
      "    which\n",
      "\n",
      "\n",
      "The following objects are masked from ‘package:stats’:\n",
      "\n",
      "    IQR, mad, sd, var, xtabs\n",
      "\n",
      "\n",
      "The following objects are masked from ‘package:base’:\n",
      "\n",
      "    anyDuplicated, append, as.data.frame, basename, cbind, colnames,\n",
      "    dirname, do.call, duplicated, eval, evalq, Filter, Find, get, grep,\n",
      "    grepl, intersect, is.unsorted, lapply, Map, mapply, match, mget,\n",
      "    order, paste, pmax, pmax.int, pmin, pmin.int, Position, rank,\n",
      "    rbind, Reduce, rownames, sapply, setdiff, sort, table, tapply,\n",
      "    union, unique, unsplit, which, which.max, which.min\n",
      "\n",
      "\n",
      "Loading required package: AnnotationHub\n",
      "\n",
      "Loading required package: BiocFileCache\n",
      "\n",
      "Loading required package: dbplyr\n",
      "\n",
      "Using temporary cache /var/folders/yd/s2tbldys49q1qq6bv1skfs340000gn/T//Rtmp5QkL1H/BiocFileCache\n",
      "\n",
      "snapshotDate(): 2019-10-22\n",
      "\n",
      "Using temporary cache /var/folders/yd/s2tbldys49q1qq6bv1skfs340000gn/T//Rtmp5QkL1H/BiocFileCache\n",
      "\n",
      "see ?curatedMetagenomicData and browseVignettes('curatedMetagenomicData') for documentation\n",
      "\n",
      "Using temporary cache /var/folders/yd/s2tbldys49q1qq6bv1skfs340000gn/T//Rtmp5QkL1H/BiocFileCache\n",
      "\n",
      "Using temporary cache /var/folders/yd/s2tbldys49q1qq6bv1skfs340000gn/T//Rtmp5QkL1H/BiocFileCache\n",
      "\n",
      "downloading 1 resources\n",
      "\n",
      "retrieving 1 resource\n",
      "\n",
      "Using temporary cache /var/folders/yd/s2tbldys49q1qq6bv1skfs340000gn/T//Rtmp5QkL1H/BiocFileCache\n",
      "\n",
      "loading from cache\n",
      "\n",
      "Using temporary cache /var/folders/yd/s2tbldys49q1qq6bv1skfs340000gn/T//Rtmp5QkL1H/BiocFileCache\n",
      "\n",
      "Using temporary cache /var/folders/yd/s2tbldys49q1qq6bv1skfs340000gn/T//Rtmp5QkL1H/BiocFileCache\n",
      "\n",
      "Using temporary cache /var/folders/yd/s2tbldys49q1qq6bv1skfs340000gn/T//Rtmp5QkL1H/BiocFileCache\n",
      "\n"
     ]
    }
   ],
   "source": [
    "library(\"ExperimentHub\")\n",
    "\n",
    "eh = ExperimentHub()\n",
    "data = eh[[\"EH361\"]]\n"
   ]
  },
  {
   "cell_type": "markdown",
   "metadata": {},
   "source": [
    "## 1. Explore the data set\n",
    "\n",
    "Explore our data set. The rows are the presence of microbes in the gut. They also contain the presence of cancer. The columns represent different patients. \n",
    "\n",
    "How many patients are in the data "
   ]
  },
  {
   "cell_type": "code",
   "execution_count": null,
   "metadata": {},
   "outputs": [],
   "source": [
    "data"
   ]
  },
  {
   "cell_type": "code",
   "execution_count": null,
   "metadata": {},
   "outputs": [],
   "source": [
    "rownames(data)"
   ]
  },
  {
   "cell_type": "code",
   "execution_count": null,
   "metadata": {},
   "outputs": [],
   "source": [
    "colnames(data)"
   ]
  },
  {
   "cell_type": "markdown",
   "metadata": {},
   "source": [
    "For simplicity, let's only use the \"n\" and \"cancer\" states (and remove the adenomas).\n"
   ]
  },
  {
   "cell_type": "code",
   "execution_count": null,
   "metadata": {},
   "outputs": [],
   "source": [
    "data$disease\n",
    "\n",
    "dataCancerNoCancer = data[, data$disease %in% c(\"n\", \"cancer\")]\n",
    "\n",
    "dataCancerNoCancer$disease"
   ]
  },
  {
   "cell_type": "markdown",
   "metadata": {},
   "source": [
    "# Lasso regression\n",
    "Let's perform lasso regression. In this case, the response variable is categorical (cancer or no cancer) so we can use a binomial model, which is a subset of logistic models. "
   ]
  },
  {
   "cell_type": "code",
   "execution_count": null,
   "metadata": {},
   "outputs": [],
   "source": [
    "y = factor(dataCancerNoCancer$disease)\n",
    "x = t(exprs(dataCancerNoCancer))\n",
    "\n",
    "lassoFit = glmnet(y=y, x=x, family=\"binomial\")\n",
    "\n",
    "plot(lassoFit, xvar = \"lambda\", label = TRUE)\n"
   ]
  },
  {
   "cell_type": "code",
   "execution_count": null,
   "metadata": {},
   "outputs": [],
   "source": [
    "crossValidationOutput <- cv.glmnet(y=factor(dataCancerNoCancer$disease),\n",
    "                                   x=t(exprs(dataCancerNoCancer)), family=\"binomial\")\n",
    "\n",
    "plot(crossValidationOutput)\n",
    "\n"
   ]
  },
  {
   "cell_type": "code",
   "execution_count": null,
   "metadata": {},
   "outputs": [],
   "source": [
    "bestLambda = crossValidationOutput$lambda.min\n",
    "confusionMatrix = predict(lassoFit, newx = t(exprs(dataCancerNoCancer)), type=\"class\",s=bestLambda)\n",
    "table(confusionMatrix, dataCancerNoCancer$disease)"
   ]
  },
  {
   "cell_type": "markdown",
   "metadata": {},
   "source": [
    "# Elastic Net regression\n",
    "\n",
    "The characteristic feature of Ridge regression is the penalty\n",
    "\n",
    "$$\\mbox{log}\\left(L(\\beta)\\right) - \\lambda \\sum_i  \\beta_i ^2,$$\n",
    "\n",
    "while the penalty for Lasso regression is\n",
    "\n",
    "$$\\mbox{log}\\left(L(\\beta)\\right) - \\lambda \\sum_i | \\beta_i |.$$\n",
    "\n",
    "In this Problem Set, we explore the penalty\n",
    "\n",
    "$$\\mbox{log}\\left(L(\\beta)\\right) - \\lambda \\left(\\alpha \\sum_i | \\beta_i | +  (1-\\alpha) \\sum_i  \\beta_i ^2\\right),$$\n",
    "\n",
    "which is called __Elastic Net__.  "
   ]
  },
  {
   "cell_type": "markdown",
   "metadata": {},
   "source": [
    "1. The `glmnet` package was built for Elastic Net regression. Look up the package help files to find out how to perform Elastic Net regression for a specific $\\alpha$. Do this for $\\alpha=0.5$, and return the confusion matrix."
   ]
  },
  {
   "cell_type": "code",
   "execution_count": null,
   "metadata": {},
   "outputs": [],
   "source": []
  },
  {
   "cell_type": "markdown",
   "metadata": {},
   "source": [
    "2. What $\\alpha$ value minimizes the number of false positives (non-cancer patients that are predicted to have cancer)?\n",
    "\n",
    "3. What $\\alpha$ value minimizes the number of false negatives (cancer patients that are predicted to not have cancer)?"
   ]
  },
  {
   "cell_type": "code",
   "execution_count": null,
   "metadata": {},
   "outputs": [],
   "source": []
  }
 ],
 "metadata": {
  "kernelspec": {
   "display_name": "R",
   "language": "R",
   "name": "ir"
  },
  "language_info": {
   "codemirror_mode": "r",
   "file_extension": ".r",
   "mimetype": "text/x-r-source",
   "name": "R",
   "pygments_lexer": "r",
   "version": "3.6.1"
  }
 },
 "nbformat": 4,
 "nbformat_minor": 2
}
