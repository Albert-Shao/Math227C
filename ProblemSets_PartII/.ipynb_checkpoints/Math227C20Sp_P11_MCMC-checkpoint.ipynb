{
 "cells": [
  {
   "cell_type": "markdown",
   "metadata": {},
   "source": [
    "# Math 227C Problem Set 11: Markov Chain Monte Carlo!\n",
    "\n",
    "In the first part of this notebook, we simulate a chemical reaction\n",
    "\n",
    "$$\\frac{dx}{dt} = k_{\\rm on} - k_{\\rm off} x$$\n",
    "\n",
    "with some observational noise\n",
    "\n",
    "$$y = x + \\epsilon$$\n",
    "\n",
    "where $\\epsilon$ is Gaussian distributed with standard deviation $\\sigma$.\n",
    "\n",
    "Then we use MCMC to fit the simulated data to discover the values of paramaters ``kon``, ``koff`` and ``sigma``.\n",
    "\n",
    "To perform MCMC, we must choose priors. We make the simplest assumption and use flat priors, subject to non-negativity (we require kon>0, koff>0 and sigma>0). \n",
    "\n",
    "The Problem Set begins below the joint posteriors."
   ]
  },
  {
   "cell_type": "code",
   "execution_count": null,
   "metadata": {},
   "outputs": [],
   "source": [
    "library(\"ggplot2\")\n"
   ]
  },
  {
   "cell_type": "code",
   "execution_count": null,
   "metadata": {},
   "outputs": [],
   "source": [
    "# Let's simulate the reaction\n",
    "\n",
    "# solution to first-order kinetics\n",
    "\n",
    "NSample = 1000 # sample size\n",
    "sigma <- 0.1 # observation noise\n",
    "\n",
    "# parametrize by kon and koff\n",
    "\n",
    "kon <- 2.4\n",
    "koff <- 0.25\n",
    "\n",
    "\n",
    "tStart <- 0\n",
    "tStop <- 100\n",
    "times <- seq(from=tStart,to=tStop,by=(tStop-tStart)/(NSample-1))\n",
    "\n",
    "\n",
    "x <- kon/koff*(1-exp(-koff*times))\n",
    "soln <- data.frame( \"x\"=x, \"times\"=times)\n",
    "\n",
    "# add noise\n",
    "y <- x + rnorm(NSample,0,sigma)\n",
    "soln$observations = y\n",
    "\n",
    "par(mfrow = c(2,1))\n",
    "\n",
    "plot(x~times,data=soln,type='l')\n",
    "plot(observations~times,data=soln,type='o')"
   ]
  },
  {
   "cell_type": "markdown",
   "metadata": {},
   "source": [
    "## Markov Chain Monte Carlo\n",
    "\n",
    "We write from scratch an MCMC Metropolis-Hastings implementation. Note there are existing packages that do this, including STAN and ``mcmc``."
   ]
  },
  {
   "cell_type": "code",
   "execution_count": null,
   "metadata": {},
   "outputs": [],
   "source": [
    "# define the likelihood function\n",
    "\n",
    "logLikelihood <- function(param,times,y){\n",
    "    kon = param[1]\n",
    "    koff = param[2]\n",
    "    sigma = param[3]\n",
    "    \n",
    "    pred = kon/koff*(1-exp(-koff*times))\n",
    "\n",
    "    singleLikelihoods = dnorm(y, mean=pred, sd=sigma, log=T) # really the log likelihood\n",
    "    sumLikelihood = sum(singleLikelihoods) # really the log of the product of likelihoods\n",
    "        \n",
    "    return(sumLikelihood)\n",
    "    \n",
    "}\n",
    "\n",
    "# Test it out\n",
    "logLikelihood(c(2.3, 0.25, 0.1),times,y)\n",
    "logLikelihood(c(2.5, 0.25, 0.1),times,y)"
   ]
  },
  {
   "cell_type": "code",
   "execution_count": null,
   "metadata": {},
   "outputs": [],
   "source": [
    "# Here is the Metropolis algorithm!\n",
    "\n",
    "proposalGenerator <- function(currentParam){\n",
    "    \n",
    "    proposalParam = rnorm(3, mean=currentParam, sd = c(0.002,0.0002,0.0001)) \n",
    "    # play with these to make the acceptance rates around 30% for most efficient MCMC\n",
    "    proposalParam[proposalParam<0] <- 0 # Prevent negative values\n",
    "    return(proposalParam)\n",
    "}\n",
    "\n",
    "run_metropolis_MCMC <- function(startvalue, iterations){\n",
    "    chain = array(dim = c(iterations+1,3))\n",
    "    chain[1,] = startvalue\n",
    "    for (i in 1:iterations){\n",
    "        \n",
    "        proposal = proposalGenerator(chain[i,])\n",
    "         \n",
    "        # This is the Metropolis-Hastings (\"Boltzmann\") test\n",
    "        probab = exp(logLikelihood(proposal,times,y) - logLikelihood(chain[i,],times,y))    \n",
    "        if (runif(1) < probab){\n",
    "            chain[i+1,] = proposal\n",
    "        }\n",
    "        else{\n",
    "            chain[i+1,] = chain[i,]\n",
    "        }\n",
    "    }\n",
    "    return(chain)\n",
    "}\n",
    " \n",
    "startvalue = c(1,0.1,0.1)\n",
    "chain = run_metropolis_MCMC(startvalue, 100000)\n",
    " \n",
    "burnIn = 10000\n",
    "acceptance = 1-mean(duplicated(chain[-(1:burnIn),]))"
   ]
  },
  {
   "cell_type": "code",
   "execution_count": null,
   "metadata": {},
   "outputs": [],
   "source": [
    "# Explore the results.\n",
    "\n",
    "head(chain)\n",
    "print(acceptance) # Is it close to 30%?\n",
    "\n",
    "# Conditional posteriors\n",
    "par(mfrow = c(2,3))\n",
    "\n",
    "hist(chain[-(1:burnIn),1], xlab=\"Posterior of kon\")\n",
    "hist(chain[-(1:burnIn),2], xlab=\"Posterior of koff\")\n",
    "hist(chain[-(1:burnIn),3], xlab=\"Posterior of sigma\")\n",
    "\n",
    "plot(chain[,1])\n",
    "plot(chain[,2])\n",
    "plot(chain[,3])"
   ]
  },
  {
   "cell_type": "code",
   "execution_count": null,
   "metadata": {},
   "outputs": [],
   "source": [
    "# joint posterior\n",
    "\n",
    "dfChain <- data.frame(konPosterior=chain[-(1:burnIn),1], \n",
    "                      koffPosterior=chain[-(1:burnIn),2],\n",
    "                      sigmaPosterior=chain[-(1:burnIn),3] )\n",
    "\n",
    "\n",
    "ggplot(dfChain, aes(x=konPosterior, y=koffPosterior) ) +\n",
    "  geom_bin2d(bins = 70) +\n",
    "  scale_fill_continuous(type = \"viridis\") +\n",
    "  theme_bw()\n",
    "\n",
    "ggplot(dfChain, aes(x=konPosterior, y=sigmaPosterior) ) +\n",
    "  geom_bin2d(bins = 70) +\n",
    "  scale_fill_continuous(type = \"viridis\") +\n",
    "  theme_bw()\n",
    "\n",
    "ggplot(dfChain, aes(x=koffPosterior, y=sigmaPosterior) ) +\n",
    "  geom_bin2d(bins = 70) +\n",
    "  scale_fill_continuous(type = \"viridis\") +\n",
    "  theme_bw()\n"
   ]
  },
  {
   "cell_type": "markdown",
   "metadata": {},
   "source": [
    "# Problem set\n",
    "\n",
    "The chemical reaction we simulated is mathematically identical to \n",
    "\n",
    "$$\\frac{dx}{dt} = \\frac{1}{\\tau}\\left( K_D -  x \\right)$$\n",
    "\n",
    "where $\\tau$ is the timescale of the reaction and $K_D$ is the equilibrium constant. \n",
    "\n",
    "In this problem, we will MCMC to fit the simulated data to discover the values of paramaters ``KD``, ``tau`` and ``sigma`` (the same as above, the standard deviation of the observational noise).\n",
    "\n",
    "To perform MCMC, we must choose priors. We make the simplest assumption and use flat priors, subject to non-negativity (we require KD>0, tau>0 and sigma>0). \n",
    "\n",
    "## 1. Change of variables\n",
    "\n",
    "Show that the chemical reaction with $K_D$ and $\\tau$ is identical to the first one with $k_{\\rm on}$ and $k_{\\rm off}$. What is the relationship between the two sets of parameters?"
   ]
  },
  {
   "cell_type": "markdown",
   "metadata": {},
   "source": []
  },
  {
   "cell_type": "markdown",
   "metadata": {},
   "source": [
    "## 2. Flat priors in KD and Tau\n",
    "\n",
    "Modify the code above to perform MCMC on the same data, but with $K_D$ and $\\tau$ (as well as $\\sigma$) as the parameters to infer. \n",
    "\n",
    "You may use a separate notebook if that is easier to organize."
   ]
  },
  {
   "cell_type": "code",
   "execution_count": null,
   "metadata": {},
   "outputs": [],
   "source": []
  },
  {
   "cell_type": "markdown",
   "metadata": {},
   "source": [
    "## 3. Comparison\n",
    "\n",
    "Take the chain representing the posterior (minus the burn-in period) and convert it to $k_{\\rm on}$ and $k_{\\rm off}$ using the equations you found in Part 1. Plot the joint posterior distributions.\n",
    "\n",
    "How does this compare to the posteriors of $k_{\\rm on}$ and $k_{\\rm off}$ that resulted from assuming flat priors in $k_{\\rm on}$ and $k_{\\rm off}$?"
   ]
  },
  {
   "cell_type": "code",
   "execution_count": null,
   "metadata": {},
   "outputs": [],
   "source": []
  }
 ],
 "metadata": {
  "kernelspec": {
   "display_name": "R",
   "language": "R",
   "name": "ir"
  },
  "language_info": {
   "codemirror_mode": "r",
   "file_extension": ".r",
   "mimetype": "text/x-r-source",
   "name": "R",
   "pygments_lexer": "r",
   "version": "3.6.1"
  }
 },
 "nbformat": 4,
 "nbformat_minor": 2
}
