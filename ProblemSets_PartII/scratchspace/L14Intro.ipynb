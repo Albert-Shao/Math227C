{
 "cells": [
  {
   "cell_type": "code",
   "execution_count": 3,
   "metadata": {},
   "outputs": [
    {
     "data": {
      "text/html": [
       "<ol class=list-inline>\n",
       "\t<li>2</li>\n",
       "\t<li>1</li>\n",
       "\t<li>0</li>\n",
       "\t<li>1</li>\n",
       "\t<li>1</li>\n",
       "\t<li>3</li>\n",
       "\t<li>3</li>\n",
       "\t<li>3</li>\n",
       "\t<li>1</li>\n",
       "\t<li>3</li>\n",
       "</ol>\n"
      ],
      "text/latex": [
       "\\begin{enumerate*}\n",
       "\\item 2\n",
       "\\item 1\n",
       "\\item 0\n",
       "\\item 1\n",
       "\\item 1\n",
       "\\item 3\n",
       "\\item 3\n",
       "\\item 3\n",
       "\\item 1\n",
       "\\item 3\n",
       "\\end{enumerate*}\n"
      ],
      "text/markdown": [
       "1. 2\n",
       "2. 1\n",
       "3. 0\n",
       "4. 1\n",
       "5. 1\n",
       "6. 3\n",
       "7. 3\n",
       "8. 3\n",
       "9. 1\n",
       "10. 3\n",
       "\n",
       "\n"
      ],
      "text/plain": [
       " [1] 2 1 0 1 1 3 3 3 1 3"
      ]
     },
     "metadata": {},
     "output_type": "display_data"
    }
   ],
   "source": [
    "# Generate poisson random variables\n",
    "rpois(10,lambda=2)"
   ]
  },
  {
   "cell_type": "markdown",
   "metadata": {},
   "source": [
    "# Math 227C Scratch\n",
    "\n",
    "This file is to\n",
    "* Say __hello!__\n",
    "* Say hello in Latex!\n",
    "* Generate random variables\n",
    "* Plot the probability density function\n",
    "* Plot the likelihood function"
   ]
  },
  {
   "cell_type": "markdown",
   "metadata": {},
   "source": [
    "The probability density function for a continuous random variable\n",
    "$$p(x;\\theta)$$\n",
    "or the probability mass function for a discrete random variable\n",
    "$$p(i;\\theta)$$\n",
    "can both be thought of as functions of the parameter $\\theta$ instead of the random variable $x$. That is\n",
    "$$L(\\theta)=p(x;\\theta)$$"
   ]
  },
  {
   "cell_type": "code",
   "execution_count": 8,
   "metadata": {},
   "outputs": [
    {
     "data": {
      "text/html": [
       "<ol class=list-inline>\n",
       "\t<li>2.11759668850872</li>\n",
       "\t<li>1.94028836102148</li>\n",
       "\t<li>2.09963833517333</li>\n",
       "\t<li>2.02639627052613</li>\n",
       "\t<li>2.01449756099469</li>\n",
       "\t<li>1.98913618039423</li>\n",
       "\t<li>2.11014830223666</li>\n",
       "\t<li>2.02139152706219</li>\n",
       "\t<li>2.15120742306691</li>\n",
       "\t<li>1.92015576632524</li>\n",
       "</ol>\n"
      ],
      "text/latex": [
       "\\begin{enumerate*}\n",
       "\\item 2.11759668850872\n",
       "\\item 1.94028836102148\n",
       "\\item 2.09963833517333\n",
       "\\item 2.02639627052613\n",
       "\\item 2.01449756099469\n",
       "\\item 1.98913618039423\n",
       "\\item 2.11014830223666\n",
       "\\item 2.02139152706219\n",
       "\\item 2.15120742306691\n",
       "\\item 1.92015576632524\n",
       "\\end{enumerate*}\n"
      ],
      "text/markdown": [
       "1. 2.11759668850872\n",
       "2. 1.94028836102148\n",
       "3. 2.09963833517333\n",
       "4. 2.02639627052613\n",
       "5. 2.01449756099469\n",
       "6. 1.98913618039423\n",
       "7. 2.11014830223666\n",
       "8. 2.02139152706219\n",
       "9. 2.15120742306691\n",
       "10. 1.92015576632524\n",
       "\n",
       "\n"
      ],
      "text/plain": [
       " [1] 2.117597 1.940288 2.099638 2.026396 2.014498 1.989136 2.110148 2.021392\n",
       " [9] 2.151207 1.920156"
      ]
     },
     "metadata": {},
     "output_type": "display_data"
    },
    {
     "data": {
      "text/html": [
       "0.199471140200716"
      ],
      "text/latex": [
       "0.199471140200716"
      ],
      "text/markdown": [
       "0.199471140200716"
      ],
      "text/plain": [
       "[1] 0.1994711"
      ]
     },
     "metadata": {},
     "output_type": "display_data"
    },
    {
     "data": {
      "text/html": [
       "0.5"
      ],
      "text/latex": [
       "0.5"
      ],
      "text/markdown": [
       "0.5"
      ],
      "text/plain": [
       "[1] 0.5"
      ]
     },
     "metadata": {},
     "output_type": "display_data"
    },
    {
     "data": {
      "text/html": [
       "1"
      ],
      "text/latex": [
       "1"
      ],
      "text/markdown": [
       "1"
      ],
      "text/plain": [
       "[1] 1"
      ]
     },
     "metadata": {},
     "output_type": "display_data"
    }
   ],
   "source": [
    "# Normal random variables\n",
    "rnorm(10,mean=2,sd=0.1) \n",
    "dnorm(1,mean=1,sd=2)\n",
    "pnorm(1,mean=1,sd=2)\n",
    "qnorm(0.5,mean=1,sd=2)"
   ]
  },
  {
   "cell_type": "code",
   "execution_count": 13,
   "metadata": {},
   "outputs": [
    {
     "data": {
      "text/html": [
       "<ol class=list-inline>\n",
       "\t<li>2.3772461170933</li>\n",
       "\t<li>1.01087109554083</li>\n",
       "\t<li>2.38811654398654</li>\n",
       "\t<li>0.390221235807985</li>\n",
       "\t<li>1.28351014941455</li>\n",
       "\t<li>0.429964175913483</li>\n",
       "\t<li>0.761824398859945</li>\n",
       "\t<li>0.926250251899374</li>\n",
       "\t<li>0.203458223026246</li>\n",
       "\t<li>0.488162674941123</li>\n",
       "</ol>\n"
      ],
      "text/latex": [
       "\\begin{enumerate*}\n",
       "\\item 2.3772461170933\n",
       "\\item 1.01087109554083\n",
       "\\item 2.38811654398654\n",
       "\\item 0.390221235807985\n",
       "\\item 1.28351014941455\n",
       "\\item 0.429964175913483\n",
       "\\item 0.761824398859945\n",
       "\\item 0.926250251899374\n",
       "\\item 0.203458223026246\n",
       "\\item 0.488162674941123\n",
       "\\end{enumerate*}\n"
      ],
      "text/markdown": [
       "1. 2.3772461170933\n",
       "2. 1.01087109554083\n",
       "3. 2.38811654398654\n",
       "4. 0.390221235807985\n",
       "5. 1.28351014941455\n",
       "6. 0.429964175913483\n",
       "7. 0.761824398859945\n",
       "8. 0.926250251899374\n",
       "9. 0.203458223026246\n",
       "10. 0.488162674941123\n",
       "\n",
       "\n"
      ],
      "text/plain": [
       " [1] 2.3772461 1.0108711 2.3881165 0.3902212 1.2835101 0.4299642 0.7618244\n",
       " [8] 0.9262503 0.2034582 0.4881627"
      ]
     },
     "metadata": {},
     "output_type": "display_data"
    },
    {
     "data": {
      "text/html": [
       "0.367879441171442"
      ],
      "text/latex": [
       "0.367879441171442"
      ],
      "text/markdown": [
       "0.367879441171442"
      ],
      "text/plain": [
       "[1] 0.3678794"
      ]
     },
     "metadata": {},
     "output_type": "display_data"
    },
    {
     "data": {
      "text/html": [
       "0.632120558828558"
      ],
      "text/latex": [
       "0.632120558828558"
      ],
      "text/markdown": [
       "0.632120558828558"
      ],
      "text/plain": [
       "[1] 0.6321206"
      ]
     },
     "metadata": {},
     "output_type": "display_data"
    },
    {
     "data": {
      "text/html": [
       "0.693147180559945"
      ],
      "text/latex": [
       "0.693147180559945"
      ],
      "text/markdown": [
       "0.693147180559945"
      ],
      "text/plain": [
       "[1] 0.6931472"
      ]
     },
     "metadata": {},
     "output_type": "display_data"
    }
   ],
   "source": [
    "rexp(10,rate=1)\n",
    "dexp(1,rate=1)\n",
    "pexp(1,rate=1)\n",
    "qexp(0.5,rate=1)"
   ]
  },
  {
   "cell_type": "code",
   "execution_count": 16,
   "metadata": {},
   "outputs": [
    {
     "data": {
      "image/png": "[encoded data removed]",
      "text/plain": [
       "plot without title"
      ]
     },
     "metadata": {},
     "output_type": "display_data"
    }
   ],
   "source": [
    "# plot settings\n",
    "options(repr.plot.width=4, repr.plot.height=3)\n",
    "\n",
    "\n",
    "# Plot the density function of the exponential distribution\n",
    "tAxis = seq(-3, 3, by = .1)\n",
    "density = dexp(tAxis, rate=1)\n",
    "plot(tAxis,density)"
   ]
  },
  {
   "cell_type": "code",
   "execution_count": 19,
   "metadata": {},
   "outputs": [
    {
     "data": {
      "image/png": "[encoded data removed]",
      "text/plain": [
       "plot without title"
      ]
     },
     "metadata": {},
     "output_type": "display_data"
    }
   ],
   "source": [
    "# Plot the likelihood of the exponential distribution, given t=1\n",
    "\n",
    "# Plot the density function of the exponential distribution\n",
    "rateArray = seq(0, 3, by = .1)\n",
    "likelihood = dexp(1, rate=rateArray)\n",
    "plot(rate,likelihood)\n"
   ]
  },
  {
   "cell_type": "code",
   "execution_count": null,
   "metadata": {},
   "outputs": [],
   "source": []
  }
 ],
 "metadata": {
  "kernelspec": {
   "display_name": "R",
   "language": "R",
   "name": "ir"
  },
  "language_info": {
   "codemirror_mode": "r",
   "file_extension": ".r",
   "mimetype": "text/x-r-source",
   "name": "R",
   "pygments_lexer": "r",
   "version": "3.5.1"
  }
 },
 "nbformat": 4,
 "nbformat_minor": 2
}
