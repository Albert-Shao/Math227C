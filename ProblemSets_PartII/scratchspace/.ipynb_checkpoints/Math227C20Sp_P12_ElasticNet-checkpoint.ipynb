{
 "cells": [
  {
   "cell_type": "markdown",
   "metadata": {},
   "source": [
    "# Problem set 12\n",
    "\n",
    "## Example: predicting colon cancer from stool microbione composition"
   ]
  },
  {
   "cell_type": "code",
   "execution_count": null,
   "metadata": {},
   "outputs": [
    {
     "name": "stdout",
     "output_type": "stream",
     "text": [
      "\n",
      "The downloaded binary packages are in\n",
      "\t/var/folders/yd/s2tbldys49q1qq6bv1skfs340000gn/T//RtmpYcanWS/downloaded_packages\n"
     ]
    },
    {
     "name": "stderr",
     "output_type": "stream",
     "text": [
      "Bioconductor version 3.10 (BiocManager 1.30.10), R 3.6.1 (2019-07-05)\n",
      "\n",
      "Installing package(s) 'BiocVersion'\n",
      "\n"
     ]
    },
    {
     "name": "stdout",
     "output_type": "stream",
     "text": [
      "\n",
      "The downloaded binary packages are in\n",
      "\t/var/folders/yd/s2tbldys49q1qq6bv1skfs340000gn/T//RtmpYcanWS/downloaded_packages\n"
     ]
    },
    {
     "name": "stderr",
     "output_type": "stream",
     "text": [
      "Old packages: 'boot', 'class', 'cli', 'digest', 'fansi', 'foreign', 'glue',\n",
      "  'jsonlite', 'KernSmooth', 'lattice', 'MASS', 'Matrix', 'mgcv', 'nlme',\n",
      "  'nnet', 'Rcpp', 'repr', 'rlang', 'rzmq', 'survival', 'uuid', 'vctrs'\n",
      "\n",
      "Bioconductor version 3.10 (BiocManager 1.30.10), R 3.6.1 (2019-07-05)\n",
      "\n",
      "Installing package(s) 'ExperimentHub'\n",
      "\n",
      "also installing the dependencies ‘sys’, ‘bit’, ‘httpuv’, ‘xtable’, ‘sourcetools’, ‘later’, ‘promises’, ‘fastmap’, ‘askpass’, ‘rlang’, ‘vctrs’, ‘bit64’, ‘blob’, ‘memoise’, ‘pkgconfig’, ‘BH’, ‘plogr’, ‘Biobase’, ‘IRanges’, ‘shiny’, ‘mime’, ‘openssl’, ‘R6’, ‘magrittr’, ‘tibble’, ‘tidyselect’, ‘purrr’, ‘RSQLite’, ‘AnnotationDbi’, ‘interactiveDisplayBase’, ‘httr’, ‘yaml’, ‘dplyr’, ‘dbplyr’, ‘DBI’, ‘BiocGenerics’, ‘AnnotationHub’, ‘BiocFileCache’, ‘S4Vectors’, ‘curl’, ‘rappdirs’\n",
      "\n",
      "\n"
     ]
    }
   ],
   "source": [
    "# plot settings\n",
    "options(repr.plot.width=5, repr.plot.height=4)\n",
    "\n",
    "\n",
    "# Install a package BioConductor ExperimentHub to access the example data\n",
    "install.packages(\"BiocManager\")\n",
    "BiocManager::install()\n",
    "BiocManager::install(\"ExperimentHub\")\n",
    "\n",
    "library(\"glmnet\")\n"
   ]
  },
  {
   "cell_type": "code",
   "execution_count": null,
   "metadata": {},
   "outputs": [],
   "source": [
    "library(ExperimentHub)\n",
    "eh = ExperimentHub()\n",
    "data = eh[[\"EH361\"]]\n"
   ]
  },
  {
   "cell_type": "code",
   "execution_count": null,
   "metadata": {},
   "outputs": [],
   "source": [
    "rownames(data)\n",
    "\n"
   ]
  },
  {
   "cell_type": "code",
   "execution_count": null,
   "metadata": {},
   "outputs": [],
   "source": [
    "colnames(data)"
   ]
  },
  {
   "cell_type": "code",
   "execution_count": null,
   "metadata": {},
   "outputs": [],
   "source": [
    "data$disease"
   ]
  },
  {
   "cell_type": "markdown",
   "metadata": {},
   "source": [
    "# Lasso regression\n",
    "Let's perform lasso regression. In this case, the response variable is categorical. So, to use a binomial model, we will only use the \"n\" and \"cancer\" states (and remove the adenomas)."
   ]
  },
  {
   "cell_type": "code",
   "execution_count": null,
   "metadata": {},
   "outputs": [],
   "source": [
    "dataCancerNoCancer = data(, data$disease %in% c(\"n\", \"cancer\"))\n",
    "\n",
    "dataCancerNoCancer$disease\n"
   ]
  },
  {
   "cell_type": "code",
   "execution_count": null,
   "metadata": {},
   "outputs": [],
   "source": [
    "lassoFit = glmnet(y = factor(dataCancerNoCancer$disease), x = t(exprs(dataCancerNoCancer)), family=\"binomial\")"
   ]
  },
  {
   "cell_type": "code",
   "execution_count": null,
   "metadata": {},
   "outputs": [],
   "source": []
  }
 ],
 "metadata": {
  "kernelspec": {
   "display_name": "R",
   "language": "R",
   "name": "ir"
  },
  "language_info": {
   "codemirror_mode": "r",
   "file_extension": ".r",
   "mimetype": "text/x-r-source",
   "name": "R",
   "pygments_lexer": "r",
   "version": "3.6.1"
  }
 },
 "nbformat": 4,
 "nbformat_minor": 2
}
