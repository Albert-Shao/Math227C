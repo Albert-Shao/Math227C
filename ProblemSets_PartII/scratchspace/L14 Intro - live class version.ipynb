{
 "cells": [
  {
   "cell_type": "code",
   "execution_count": 1,
   "metadata": {},
   "outputs": [
    {
     "data": {
      "text/html": [
       "<ol class=list-inline>\n",
       "\t<li>1</li>\n",
       "\t<li>3</li>\n",
       "\t<li>3</li>\n",
       "\t<li>3</li>\n",
       "\t<li>1</li>\n",
       "\t<li>3</li>\n",
       "\t<li>4</li>\n",
       "\t<li>1</li>\n",
       "\t<li>3</li>\n",
       "\t<li>3</li>\n",
       "</ol>\n"
      ],
      "text/latex": [
       "\\begin{enumerate*}\n",
       "\\item 1\n",
       "\\item 3\n",
       "\\item 3\n",
       "\\item 3\n",
       "\\item 1\n",
       "\\item 3\n",
       "\\item 4\n",
       "\\item 1\n",
       "\\item 3\n",
       "\\item 3\n",
       "\\end{enumerate*}\n"
      ],
      "text/markdown": [
       "1. 1\n",
       "2. 3\n",
       "3. 3\n",
       "4. 3\n",
       "5. 1\n",
       "6. 3\n",
       "7. 4\n",
       "8. 1\n",
       "9. 3\n",
       "10. 3\n",
       "\n",
       "\n"
      ],
      "text/plain": [
       " [1] 1 3 3 3 1 3 4 1 3 3"
      ]
     },
     "metadata": {},
     "output_type": "display_data"
    }
   ],
   "source": [
    "# Generate Poisson random variables\n",
    "rpois(10,lambda=2.7)"
   ]
  },
  {
   "cell_type": "markdown",
   "metadata": {},
   "source": [
    "# Math 227C Lecture 14\n",
    "This is Math 227C scratch space\n",
    "This file is to\n",
    "* Say __hello__!\n",
    "* generate some random numbers and their statistics\n",
    "* Plot a probabiloity density function\n",
    "* introduce the *likelihood function*\n",
    "\n",
    "We can typset latex equations! For example, the probability density function\n",
    "$$p(x)=\\frac{1}{\\sqrt{2\\pi\\sigma^2}}\\mbox{exp}\\left(-(x-\\mu^2)/2\\sigma^2\\right)$$"
   ]
  },
  {
   "cell_type": "code",
   "execution_count": 7,
   "metadata": {},
   "outputs": [
    {
     "data": {
      "text/html": [
       "<ol class=list-inline>\n",
       "\t<li>1.8594769035784</li>\n",
       "\t<li>1.9967402689683</li>\n",
       "\t<li>1.95256487941532</li>\n",
       "\t<li>1.98945145270298</li>\n",
       "\t<li>2.03324205117872</li>\n",
       "\t<li>2.02287407045587</li>\n",
       "\t<li>1.99364573615475</li>\n",
       "\t<li>2.08257232341101</li>\n",
       "\t<li>2.10048296058926</li>\n",
       "\t<li>2.06146200619682</li>\n",
       "</ol>\n"
      ],
      "text/latex": [
       "\\begin{enumerate*}\n",
       "\\item 1.8594769035784\n",
       "\\item 1.9967402689683\n",
       "\\item 1.95256487941532\n",
       "\\item 1.98945145270298\n",
       "\\item 2.03324205117872\n",
       "\\item 2.02287407045587\n",
       "\\item 1.99364573615475\n",
       "\\item 2.08257232341101\n",
       "\\item 2.10048296058926\n",
       "\\item 2.06146200619682\n",
       "\\end{enumerate*}\n"
      ],
      "text/markdown": [
       "1. 1.8594769035784\n",
       "2. 1.9967402689683\n",
       "3. 1.95256487941532\n",
       "4. 1.98945145270298\n",
       "5. 2.03324205117872\n",
       "6. 2.02287407045587\n",
       "7. 1.99364573615475\n",
       "8. 2.08257232341101\n",
       "9. 2.10048296058926\n",
       "10. 2.06146200619682\n",
       "\n",
       "\n"
      ],
      "text/plain": [
       " [1] 1.859477 1.996740 1.952565 1.989451 2.033242 2.022874 1.993646 2.082572\n",
       " [9] 2.100483 2.061462"
      ]
     },
     "metadata": {},
     "output_type": "display_data"
    },
    {
     "data": {
      "text/html": [
       "3.98942280401433"
      ],
      "text/latex": [
       "3.98942280401433"
      ],
      "text/markdown": [
       "3.98942280401433"
      ],
      "text/plain": [
       "[1] 3.989423"
      ]
     },
     "metadata": {},
     "output_type": "display_data"
    },
    {
     "data": {
      "text/html": [
       "0.5"
      ],
      "text/latex": [
       "0.5"
      ],
      "text/markdown": [
       "0.5"
      ],
      "text/plain": [
       "[1] 0.5"
      ]
     },
     "metadata": {},
     "output_type": "display_data"
    },
    {
     "data": {
      "text/html": [
       "-Inf"
      ],
      "text/latex": [
       "-Inf"
      ],
      "text/markdown": [
       "-Inf"
      ],
      "text/plain": [
       "[1] -Inf"
      ]
     },
     "metadata": {},
     "output_type": "display_data"
    }
   ],
   "source": [
    "# Normal random variables\n",
    "rnorm(10,mean=2,sd=0.1)\n",
    "dnorm(2,mean=2,sd=0.1)\n",
    "pnorm(2,mean=2,sd=1.2)\n",
    "qnorm(0,mean=2,sd=0.1)"
   ]
  },
  {
   "cell_type": "code",
   "execution_count": 9,
   "metadata": {},
   "outputs": [
    {
     "data": {
      "text/html": [
       "<ol class=list-inline>\n",
       "\t<li>0.317170391324908</li>\n",
       "\t<li>0.781717075924289</li>\n",
       "\t<li>0.315227953894483</li>\n",
       "\t<li>0.68051124503836</li>\n",
       "\t<li>1.70125155998092</li>\n",
       "\t<li>2.79486911727076</li>\n",
       "\t<li>0.376596246380359</li>\n",
       "\t<li>0.0585172125138342</li>\n",
       "\t<li>0.0704723484814167</li>\n",
       "\t<li>0.962301839248376</li>\n",
       "</ol>\n"
      ],
      "text/latex": [
       "\\begin{enumerate*}\n",
       "\\item 0.317170391324908\n",
       "\\item 0.781717075924289\n",
       "\\item 0.315227953894483\n",
       "\\item 0.68051124503836\n",
       "\\item 1.70125155998092\n",
       "\\item 2.79486911727076\n",
       "\\item 0.376596246380359\n",
       "\\item 0.0585172125138342\n",
       "\\item 0.0704723484814167\n",
       "\\item 0.962301839248376\n",
       "\\end{enumerate*}\n"
      ],
      "text/markdown": [
       "1. 0.317170391324908\n",
       "2. 0.781717075924289\n",
       "3. 0.315227953894483\n",
       "4. 0.68051124503836\n",
       "5. 1.70125155998092\n",
       "6. 2.79486911727076\n",
       "7. 0.376596246380359\n",
       "8. 0.0585172125138342\n",
       "9. 0.0704723484814167\n",
       "10. 0.962301839248376\n",
       "\n",
       "\n"
      ],
      "text/plain": [
       " [1] 0.31717039 0.78171708 0.31522795 0.68051125 1.70125156 2.79486912\n",
       " [7] 0.37659625 0.05851721 0.07047235 0.96230184"
      ]
     },
     "metadata": {},
     "output_type": "display_data"
    },
    {
     "data": {
      "text/html": [
       "0.367879441171442"
      ],
      "text/latex": [
       "0.367879441171442"
      ],
      "text/markdown": [
       "0.367879441171442"
      ],
      "text/plain": [
       "[1] 0.3678794"
      ]
     },
     "metadata": {},
     "output_type": "display_data"
    },
    {
     "data": {
      "text/html": [
       "0.632120558828558"
      ],
      "text/latex": [
       "0.632120558828558"
      ],
      "text/markdown": [
       "0.632120558828558"
      ],
      "text/plain": [
       "[1] 0.6321206"
      ]
     },
     "metadata": {},
     "output_type": "display_data"
    },
    {
     "data": {
      "text/html": [
       "0.693147180559945"
      ],
      "text/latex": [
       "0.693147180559945"
      ],
      "text/markdown": [
       "0.693147180559945"
      ],
      "text/plain": [
       "[1] 0.6931472"
      ]
     },
     "metadata": {},
     "output_type": "display_data"
    }
   ],
   "source": [
    "# exponential random variables\n",
    "rexp(10,rate=1)\n",
    "dexp(1,rate=1)\n",
    "pexp(1,rate=1)\n",
    "qexp(0.5,rate=1)"
   ]
  },
  {
   "cell_type": "code",
   "execution_count": 11,
   "metadata": {},
   "outputs": [
    {
     "data": {
      "image/png": "[encoded data removed]",
      "text/plain": [
       "plot without title"
      ]
     },
     "metadata": {},
     "output_type": "display_data"
    }
   ],
   "source": [
    "# plot settings\n",
    "options(repr.plot.width=4, repr.plot.height=3)\n",
    "\n",
    "# Plot the density function of the exponential distribution\n",
    "tAxis = seq(-3, 3, by = .1)\n",
    "density = dexp(tAxis, rate=1)\n",
    "plot(tAxis,density)"
   ]
  },
  {
   "cell_type": "code",
   "execution_count": null,
   "metadata": {},
   "outputs": [],
   "source": []
  }
 ],
 "metadata": {
  "kernelspec": {
   "display_name": "R",
   "language": "R",
   "name": "ir"
  },
  "language_info": {
   "codemirror_mode": "r",
   "file_extension": ".r",
   "mimetype": "text/x-r-source",
   "name": "R",
   "pygments_lexer": "r",
   "version": "3.5.1"
  }
 },
 "nbformat": 4,
 "nbformat_minor": 2
}
