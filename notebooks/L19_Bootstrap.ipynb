{
 "cells": [
  {
   "cell_type": "markdown",
   "metadata": {},
   "source": [
    "# L19 Bootstrap\n",
    "\n",
    "Key concepts: Parametric bootstrap, non-parametric bootstrap on a random variable. Non-parametric bootstrap on regression."
   ]
  },
  {
   "cell_type": "code",
   "execution_count": null,
   "metadata": {},
   "outputs": [],
   "source": [
    "# plot settings\n",
    "options(repr.plot.width=4, repr.plot.height=3)"
   ]
  },
  {
   "cell_type": "markdown",
   "metadata": {},
   "source": [
    "Example: Use maximum likelihood to estimate the parameter of a exponential distribution.\n",
    "\n",
    "From simulated data: To estimate the distribution of the estimator, we could repeat the simulation many times."
   ]
  },
  {
   "cell_type": "code",
   "execution_count": 78,
   "metadata": {},
   "outputs": [
    {
     "data": {
      "text/html": [
       "2.71196003867597"
      ],
      "text/latex": [
       "2.71196003867597"
      ],
      "text/markdown": [
       "2.71196003867597"
      ],
      "text/plain": [
       "[1] 2.71196"
      ]
     },
     "metadata": {},
     "output_type": "display_data"
    }
   ],
   "source": [
    "NObservations <- 200\n",
    "observations = rexp(NObservations,rate=2.63)\n",
    "\n",
    "rate_hat <- 1/mean(observations)\n",
    "\n",
    "rate_hat\n",
    "\n"
   ]
  },
  {
   "cell_type": "code",
   "execution_count": 81,
   "metadata": {},
   "outputs": [
    {
     "data": {
      "image/png": "[encoded data removed]",
      "text/plain": [
       "Plot with title “Histogram of rate_hatArray”"
      ]
     },
     "metadata": {},
     "output_type": "display_data"
    }
   ],
   "source": [
    "NResimulate <- 1000\n",
    "\n",
    "# initialize an array to store all the estimates\n",
    "rate_hatArray <-0\n",
    "\n",
    "for (iSimulation in 1:NResimulate){\n",
    "    \n",
    "    NObservations <- 200\n",
    "    observations = rexp(NObservations,rate=2.63) # Note these simulations use the true value\n",
    "\n",
    "    rate_hat <- 1/mean(observations)\n",
    "\n",
    "    rate_hatArray[iSimulation] = rate_hat\n",
    "    \n",
    "}\n",
    "\n",
    "hist(rate_hatArray)"
   ]
  },
  {
   "cell_type": "code",
   "execution_count": 82,
   "metadata": {},
   "outputs": [
    {
     "data": {
      "text/html": [
       "0.195901472408012"
      ],
      "text/latex": [
       "0.195901472408012"
      ],
      "text/markdown": [
       "0.195901472408012"
      ],
      "text/plain": [
       "[1] 0.1959015"
      ]
     },
     "metadata": {},
     "output_type": "display_data"
    },
    {
     "data": {
      "text/html": [
       "<dl class=dl-horizontal>\n",
       "\t<dt>0%</dt>\n",
       "\t\t<dd>2.0960380094846</dd>\n",
       "\t<dt>25%</dt>\n",
       "\t\t<dd>2.50800931661277</dd>\n",
       "\t<dt>50%</dt>\n",
       "\t\t<dd>2.63122102206563</dd>\n",
       "\t<dt>75%</dt>\n",
       "\t\t<dd>2.76594391026494</dd>\n",
       "\t<dt>100%</dt>\n",
       "\t\t<dd>3.46191830066181</dd>\n",
       "</dl>\n"
      ],
      "text/latex": [
       "\\begin{description*}\n",
       "\\item[0\\textbackslash{}\\%] 2.0960380094846\n",
       "\\item[25\\textbackslash{}\\%] 2.50800931661277\n",
       "\\item[50\\textbackslash{}\\%] 2.63122102206563\n",
       "\\item[75\\textbackslash{}\\%] 2.76594391026494\n",
       "\\item[100\\textbackslash{}\\%] 3.46191830066181\n",
       "\\end{description*}\n"
      ],
      "text/markdown": [
       "0%\n",
       ":   2.096038009484625%\n",
       ":   2.5080093166127750%\n",
       ":   2.6312210220656375%\n",
       ":   2.76594391026494100%\n",
       ":   3.46191830066181\n",
       "\n"
      ],
      "text/plain": [
       "      0%      25%      50%      75%     100% \n",
       "2.096038 2.508009 2.631221 2.765944 3.461918 "
      ]
     },
     "metadata": {},
     "output_type": "display_data"
    },
    {
     "data": {
      "text/html": [
       "<dl class=dl-horizontal>\n",
       "\t<dt>2.5%</dt>\n",
       "\t\t<dd>2.27584251029533</dd>\n",
       "\t<dt>97.5%</dt>\n",
       "\t\t<dd>3.03690333903302</dd>\n",
       "</dl>\n"
      ],
      "text/latex": [
       "\\begin{description*}\n",
       "\\item[2.5\\textbackslash{}\\%] 2.27584251029533\n",
       "\\item[97.5\\textbackslash{}\\%] 3.03690333903302\n",
       "\\end{description*}\n"
      ],
      "text/markdown": [
       "2.5%\n",
       ":   2.2758425102953397.5%\n",
       ":   3.03690333903302\n",
       "\n"
      ],
      "text/plain": [
       "    2.5%    97.5% \n",
       "2.275843 3.036903 "
      ]
     },
     "metadata": {},
     "output_type": "display_data"
    }
   ],
   "source": [
    "sd(rate_hatArray)\n",
    "\n",
    "quantile(rate_hatArray)\n",
    "\n",
    "quantile(rate_hatArray, probs = c(0.025, 0.975))"
   ]
  },
  {
   "cell_type": "markdown",
   "metadata": {},
   "source": [
    "If we have high confidence in the model and the estimate of the parameter, we can simulate data and repeat the estimation process. This is called __parametric bootstrap__. Note this requires the ability to forward-simulate the probability model."
   ]
  },
  {
   "cell_type": "markdown",
   "metadata": {},
   "source": [
    "---\n",
    "\n",
    "In reality, we might not have high confidence in the model, or it might be difficult or impossible to forward-simulate the model."
   ]
  },
  {
   "cell_type": "code",
   "execution_count": 90,
   "metadata": {},
   "outputs": [
    {
     "data": {
      "text/html": [
       "<ol class=list-inline>\n",
       "\t<li>0.188012696986756</li>\n",
       "\t<li>0.129319335415449</li>\n",
       "\t<li>0.68923783743881</li>\n",
       "\t<li>0.0115052511837659</li>\n",
       "\t<li>0.137565008158626</li>\n",
       "\t<li>0.563856789785814</li>\n",
       "\t<li>0.00749026981143444</li>\n",
       "\t<li>0.252742169446138</li>\n",
       "\t<li>0.206690209035978</li>\n",
       "\t<li>0.348468296242195</li>\n",
       "\t<li>0.33053892874744</li>\n",
       "\t<li>0.295710458825641</li>\n",
       "\t<li>0.720523003839277</li>\n",
       "\t<li>0.129772040341404</li>\n",
       "\t<li>1.47333377078971</li>\n",
       "\t<li>0.0811432817299388</li>\n",
       "\t<li>0.236808292270273</li>\n",
       "\t<li>0.295881100138789</li>\n",
       "\t<li>0.293650149135766</li>\n",
       "\t<li>0.0844157810272957</li>\n",
       "</ol>\n"
      ],
      "text/latex": [
       "\\begin{enumerate*}\n",
       "\\item 0.188012696986756\n",
       "\\item 0.129319335415449\n",
       "\\item 0.68923783743881\n",
       "\\item 0.0115052511837659\n",
       "\\item 0.137565008158626\n",
       "\\item 0.563856789785814\n",
       "\\item 0.00749026981143444\n",
       "\\item 0.252742169446138\n",
       "\\item 0.206690209035978\n",
       "\\item 0.348468296242195\n",
       "\\item 0.33053892874744\n",
       "\\item 0.295710458825641\n",
       "\\item 0.720523003839277\n",
       "\\item 0.129772040341404\n",
       "\\item 1.47333377078971\n",
       "\\item 0.0811432817299388\n",
       "\\item 0.236808292270273\n",
       "\\item 0.295881100138789\n",
       "\\item 0.293650149135766\n",
       "\\item 0.0844157810272957\n",
       "\\end{enumerate*}\n"
      ],
      "text/markdown": [
       "1. 0.188012696986756\n",
       "2. 0.129319335415449\n",
       "3. 0.68923783743881\n",
       "4. 0.0115052511837659\n",
       "5. 0.137565008158626\n",
       "6. 0.563856789785814\n",
       "7. 0.00749026981143444\n",
       "8. 0.252742169446138\n",
       "9. 0.206690209035978\n",
       "10. 0.348468296242195\n",
       "11. 0.33053892874744\n",
       "12. 0.295710458825641\n",
       "13. 0.720523003839277\n",
       "14. 0.129772040341404\n",
       "15. 1.47333377078971\n",
       "16. 0.0811432817299388\n",
       "17. 0.236808292270273\n",
       "18. 0.295881100138789\n",
       "19. 0.293650149135766\n",
       "20. 0.0844157810272957\n",
       "\n",
       "\n"
      ],
      "text/plain": [
       " [1] 0.18801270 0.12931934 0.68923784 0.01150525 0.13756501 0.56385679\n",
       " [7] 0.00749027 0.25274217 0.20669021 0.34846830 0.33053893 0.29571046\n",
       "[13] 0.72052300 0.12977204 1.47333377 0.08114328 0.23680829 0.29588110\n",
       "[19] 0.29365015 0.08441578"
      ]
     },
     "metadata": {},
     "output_type": "display_data"
    },
    {
     "data": {
      "text/html": [
       "3.08800918651199"
      ],
      "text/latex": [
       "3.08800918651199"
      ],
      "text/markdown": [
       "3.08800918651199"
      ],
      "text/plain": [
       "[1] 3.088009"
      ]
     },
     "metadata": {},
     "output_type": "display_data"
    }
   ],
   "source": [
    "NObservations <- 20\n",
    "observations <- rexp(NObservations,rate=2.63)\n",
    "\n",
    "observations\n",
    "\n",
    "rate_hatORIGINAL <- 1/mean(observations)\n",
    "\n",
    "rate_hatORIGINAL"
   ]
  },
  {
   "cell_type": "code",
   "execution_count": 89,
   "metadata": {},
   "outputs": [
    {
     "data": {
      "text/html": [
       "0.189421646035514"
      ],
      "text/latex": [
       "0.189421646035514"
      ],
      "text/markdown": [
       "0.189421646035514"
      ],
      "text/plain": [
       "[1] 0.1894216"
      ]
     },
     "metadata": {},
     "output_type": "display_data"
    },
    {
     "data": {
      "text/html": [
       "<dl class=dl-horizontal>\n",
       "\t<dt>0%</dt>\n",
       "\t\t<dd>2.00116262211475</dd>\n",
       "\t<dt>25%</dt>\n",
       "\t\t<dd>2.50508835275183</dd>\n",
       "\t<dt>50%</dt>\n",
       "\t\t<dd>2.63060034678958</dd>\n",
       "\t<dt>75%</dt>\n",
       "\t\t<dd>2.76278789439109</dd>\n",
       "\t<dt>100%</dt>\n",
       "\t\t<dd>3.2736233756397</dd>\n",
       "</dl>\n"
      ],
      "text/latex": [
       "\\begin{description*}\n",
       "\\item[0\\textbackslash{}\\%] 2.00116262211475\n",
       "\\item[25\\textbackslash{}\\%] 2.50508835275183\n",
       "\\item[50\\textbackslash{}\\%] 2.63060034678958\n",
       "\\item[75\\textbackslash{}\\%] 2.76278789439109\n",
       "\\item[100\\textbackslash{}\\%] 3.2736233756397\n",
       "\\end{description*}\n"
      ],
      "text/markdown": [
       "0%\n",
       ":   2.0011626221147525%\n",
       ":   2.5050883527518350%\n",
       ":   2.6306003467895875%\n",
       ":   2.76278789439109100%\n",
       ":   3.2736233756397\n",
       "\n"
      ],
      "text/plain": [
       "      0%      25%      50%      75%     100% \n",
       "2.001163 2.505088 2.630600 2.762788 3.273623 "
      ]
     },
     "metadata": {},
     "output_type": "display_data"
    },
    {
     "data": {
      "text/html": [
       "<dl class=dl-horizontal>\n",
       "\t<dt>2.5%</dt>\n",
       "\t\t<dd>2.29463785386233</dd>\n",
       "\t<dt>97.5%</dt>\n",
       "\t\t<dd>3.03439323439768</dd>\n",
       "</dl>\n"
      ],
      "text/latex": [
       "\\begin{description*}\n",
       "\\item[2.5\\textbackslash{}\\%] 2.29463785386233\n",
       "\\item[97.5\\textbackslash{}\\%] 3.03439323439768\n",
       "\\end{description*}\n"
      ],
      "text/markdown": [
       "2.5%\n",
       ":   2.2946378538623397.5%\n",
       ":   3.03439323439768\n",
       "\n"
      ],
      "text/plain": [
       "    2.5%    97.5% \n",
       "2.294638 3.034393 "
      ]
     },
     "metadata": {},
     "output_type": "display_data"
    },
    {
     "data": {
      "image/png": "[encoded data removed]",
      "text/plain": [
       "Plot with title “Histogram of rate_hatArray”"
      ]
     },
     "metadata": {},
     "output_type": "display_data"
    }
   ],
   "source": [
    "NResimulate <- 1000\n",
    "\n",
    "# initialize an array to store all the estimates\n",
    "rate_hatArray <-0\n",
    "\n",
    "for (iSimulation in 1:NResimulate){\n",
    "    \n",
    "    NObservations <- 200\n",
    "    observations = rexp(NObservations,rate=rate_hatORIGINAL) # Note these simulations use the true value\n",
    "\n",
    "    rate_hat <- 1/mean(observations)\n",
    "\n",
    "    rate_hatArray[iSimulation] = rate_hat\n",
    "    \n",
    "}\n",
    "\n",
    "hist(rate_hatArray)\n",
    "\n",
    "sd(rate_hatArray)\n",
    "\n",
    "quantile(rate_hatArray)\n",
    "\n",
    "quantile(rate_hatArray, probs = c(0.025, 0.975))"
   ]
  },
  {
   "cell_type": "markdown",
   "metadata": {},
   "source": [
    "Alternatively, we can resample with replacement from the data, and repeat the estimation process. This is called __non-parametric bootstrap__. Note this does not require the ability to forward-simulate the model."
   ]
  },
  {
   "cell_type": "code",
   "execution_count": 91,
   "metadata": {},
   "outputs": [
    {
     "data": {
      "text/html": [
       "0.751448476929269"
      ],
      "text/latex": [
       "0.751448476929269"
      ],
      "text/markdown": [
       "0.751448476929269"
      ],
      "text/plain": [
       "[1] 0.7514485"
      ]
     },
     "metadata": {},
     "output_type": "display_data"
    },
    {
     "data": {
      "text/html": [
       "<dl class=dl-horizontal>\n",
       "\t<dt>0%</dt>\n",
       "\t\t<dd>1.60517102098964</dd>\n",
       "\t<dt>25%</dt>\n",
       "\t\t<dd>2.70812387578724</dd>\n",
       "\t<dt>50%</dt>\n",
       "\t\t<dd>3.19341399618567</dd>\n",
       "\t<dt>75%</dt>\n",
       "\t\t<dd>3.69267691288225</dd>\n",
       "\t<dt>100%</dt>\n",
       "\t\t<dd>6.86335516294803</dd>\n",
       "</dl>\n"
      ],
      "text/latex": [
       "\\begin{description*}\n",
       "\\item[0\\textbackslash{}\\%] 1.60517102098964\n",
       "\\item[25\\textbackslash{}\\%] 2.70812387578724\n",
       "\\item[50\\textbackslash{}\\%] 3.19341399618567\n",
       "\\item[75\\textbackslash{}\\%] 3.69267691288225\n",
       "\\item[100\\textbackslash{}\\%] 6.86335516294803\n",
       "\\end{description*}\n"
      ],
      "text/markdown": [
       "0%\n",
       ":   1.6051710209896425%\n",
       ":   2.7081238757872450%\n",
       ":   3.1934139961856775%\n",
       ":   3.69267691288225100%\n",
       ":   6.86335516294803\n",
       "\n"
      ],
      "text/plain": [
       "      0%      25%      50%      75%     100% \n",
       "1.605171 2.708124 3.193414 3.692677 6.863355 "
      ]
     },
     "metadata": {},
     "output_type": "display_data"
    },
    {
     "data": {
      "text/html": [
       "<dl class=dl-horizontal>\n",
       "\t<dt>5%</dt>\n",
       "\t\t<dd>2.19639621639106</dd>\n",
       "\t<dt>95%</dt>\n",
       "\t\t<dd>4.68571155087529</dd>\n",
       "</dl>\n"
      ],
      "text/latex": [
       "\\begin{description*}\n",
       "\\item[5\\textbackslash{}\\%] 2.19639621639106\n",
       "\\item[95\\textbackslash{}\\%] 4.68571155087529\n",
       "\\end{description*}\n"
      ],
      "text/markdown": [
       "5%\n",
       ":   2.1963962163910695%\n",
       ":   4.68571155087529\n",
       "\n"
      ],
      "text/plain": [
       "      5%      95% \n",
       "2.196396 4.685712 "
      ]
     },
     "metadata": {},
     "output_type": "display_data"
    },
    {
     "data": {
      "image/png": "[encoded data removed]",
      "text/plain": [
       "Plot with title “Histogram of rate_hatArray”"
      ]
     },
     "metadata": {},
     "output_type": "display_data"
    }
   ],
   "source": [
    "NResample <- 1000\n",
    "\n",
    "# initialize an array to store all the estimates\n",
    "rate_hatArray <-0\n",
    "\n",
    "for (iResample in 1:NResample){\n",
    "\n",
    "    NObservations <- 20\n",
    "    resampledObservations <- sample(observations, size=NObservations, replace = TRUE)\n",
    "   \n",
    "    rate_hat <- 1/mean(resampledObservations)\n",
    "    \n",
    "    rate_hatArray[iResample] = rate_hat\n",
    "    \n",
    "}\n",
    "\n",
    "\n",
    "hist(rate_hatArray)\n",
    "\n",
    "sd(rate_hatArray)\n",
    "\n",
    "quantile(rate_hatArray)\n",
    "\n",
    "quantile(rate_hatArray, probs = c(0.05, 0.95))"
   ]
  },
  {
   "cell_type": "markdown",
   "metadata": {},
   "source": [
    "---\n",
    "Non-parametric bootstrap is extremely general. For any inference algorithm, if a resampling of the data can be made, bootstrap can be used.\n",
    "\n",
    "Let's use it on linear regression."
   ]
  },
  {
   "cell_type": "code",
   "execution_count": null,
   "metadata": {},
   "outputs": [],
   "source": [
    "# Simulate some linear data with noise\n",
    "N <- 100\n",
    "beta0 <- 10.5\n",
    "beta1 <- 2.6\n",
    "sigma <- 1.4\n",
    "\n",
    "X <- seq(0,10,length=N)\n",
    "eps <- rnorm(N,0,sigma)\n",
    "\n",
    "Y <- beta0 + beta1*X +eps\n",
    "\n",
    "plot(X,Y)"
   ]
  },
  {
   "cell_type": "code",
   "execution_count": null,
   "metadata": {},
   "outputs": [],
   "source": [
    "NResample <- 1000\n",
    "\n",
    "# initialize an array to store all the estimates\n",
    "beta0_hatArray <-0\n",
    "beta1_hatArray <-0\n",
    "\n",
    "\n",
    "for (iResample in 1:NResample){\n",
    "\n",
    "    thisSampleRows <- sample(N, replace = TRUE) # which rows of X and Y to take in this resample\n",
    "    Y_thisSample = Y[thisSampleRows]\n",
    "    X_thisSample = X[thisSampleRows]\n",
    "    \n",
    "    thisFit = lm(Y_thisSample~X_thisSample)\n",
    "    \n",
    "    beta0_hatArray[iResample] = coef(thisFit)[1]\n",
    "    beta1_hatArray[iResample] = coef(thisFit)[2]\n",
    "    \n",
    "}\n",
    "\n",
    "hist(beta0_hatArray)\n",
    "hist(beta1_hatArray)\n"
   ]
  },
  {
   "cell_type": "code",
   "execution_count": null,
   "metadata": {},
   "outputs": [],
   "source": []
  }
 ],
 "metadata": {
  "kernelspec": {
   "display_name": "R",
   "language": "R",
   "name": "ir"
  },
  "language_info": {
   "codemirror_mode": "r",
   "file_extension": ".r",
   "mimetype": "text/x-r-source",
   "name": "R",
   "pygments_lexer": "r",
   "version": "3.5.1"
  }
 },
 "nbformat": 4,
 "nbformat_minor": 2
}
